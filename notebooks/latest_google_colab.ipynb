{
 "cells": [
  {
   "cell_type": "code",
   "execution_count": null,
   "metadata": {
    "vscode": {
     "languageId": "plaintext"
    }
   },
   "outputs": [],
   "source": [
    "from IPython.display import Markdown, display\n",
    "\n",
    "# --- Markdown header ---\n",
    "display(Markdown(\"\"\"\n",
    "# Voice-Based Cognitive Decline Pattern Detection\n",
    "\n",
    "This Colab cell installs dependencies, sets your Groq API key, and initializes the pipeline.\n",
    "\n",
    "**Steps to run:**\n",
    "1. Paste your **Groq API key** where indicated.\n",
    "2. Ensure your `src/` folder (with `audio_processor.py`, `transcriber.py`, etc.) is next to this notebook.\n",
    "3. Upload your audio files into `data/audio/`.\n",
    "4. Run this cell!\n",
    "\"\"\"))\n",
    "\n",
    "# --- Install dependencies ---\n",
    "!pip install -q groq-sdk librosa soundfile pandas matplotlib seaborn ipython\n",
    "\n",
    "# --- Set Groq API key (paste your key!) ---\n",
    "import os\n",
    "GROQ_API_KEY = \"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\"  # <-- paste your Groq API key\n",
    "os.environ[\"GROQ_API_KEY\"] = GROQ_API_KEY\n",
    "\n",
    "# --- Add local src directory to path ---\n",
    "import sys\n",
    "sys.path.append('src')\n",
    "\n",
    "# --- Core imports ---\n",
    "import glob\n",
    "import numpy as np\n",
    "import pandas as pd\n",
    "import matplotlib.pyplot as plt\n",
    "import seaborn as sns\n",
    "from IPython.display import Audio, display\n",
    "\n",
    "# --- Custom module imports ---\n",
    "from audio_processor import AudioProcessor\n",
    "from transcriber import Transcriber\n",
    "from analyzer import SpeechAnalyzer\n",
    "from word_recall import WordRecallDetector\n",
    "from sentence_completion import SentenceCompletionDetector\n",
    "\n",
    "# --- Initialize pipeline components ---\n",
    "audio_processor = AudioProcessor()\n",
    "# Use Groq Whisper‑Large‑V3‑Turbo for transcription\n",
    "transcriber = Transcriber(api_key=GROQ_API_KEY, model_name=\"whisper-large-v3-turbo\")\n",
    "analyzer = SpeechAnalyzer()\n",
    "\n",
    "# Example naming targets\n",
    "transcriber.set_naming_targets([\n",
    "    \"apple\", \"banana\", \"cherry\", \"grape\", \"orange\",\n",
    "    \"peach\", \"pear\", \"plum\", \"kiwi\", \"mango\"\n",
    "])\n",
    "\n",
    "print(\"✅ Environment setup complete! You can now load and process audio files.\")\n"
   ]
  }
 ],
 "metadata": {
  "language_info": {
   "name": "python"
  }
 },
 "nbformat": 4,
 "nbformat_minor": 2
}
