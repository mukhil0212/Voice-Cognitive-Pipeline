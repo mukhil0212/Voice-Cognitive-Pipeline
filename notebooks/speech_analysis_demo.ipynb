{
 "cells": [
  {
   "cell_type": "markdown",
   "metadata": {},
   "source": [
    "# Speech Analysis Pipeline Demo\n",
    "\n",
    "This notebook demonstrates the complete speech analysis pipeline for detecting potential cognitive issues through speech patterns."
   ]
  },
  {
   "cell_type": "code",
   "execution_count": null,
   "metadata": {},
   "source": [
    "import sys\n",
    "sys.path.append('../src')\n",
    "\n",
    "from audio_processor import AudioProcessor\n",
    "from transcriber import Transcriber\n",
    "from analyzer import SpeechAnalyzer\n",
    "\n",
    "import glob\n",
    "import os\n",
    "import pandas as pd\n",
    "import matplotlib.pyplot as plt"
   ]
  },
  {
   "cell_type": "markdown",
   "metadata": {},
   "source": [
    "## 1. Load Audio Files"
   ]
  },
  {
   "cell_type": "code",
   "execution_count": null,
   "metadata": {},
   "source": [
    "# Get list of audio files\n",
    "audio_files = glob.glob('../data/audio/*.wav')\n",
    "print(f\"Found {len(audio_files)} audio files\")"
   ]
  },
  {
   "cell_type": "markdown",
   "metadata": {},
   "source": [
    "## 2. Process Audio Files"
   ]
  },
  {
   "cell_type": "code",
   "execution_count": null,
   "metadata": {},
   "source": [
    "# Initialize components\n",
    "audio_processor = AudioProcessor()\n",
    "transcriber = Transcriber()\n",
    "analyzer = SpeechAnalyzer()\n",
    "\n",
    "# Process each file\n",
    "features_list = []\n",
    "\n",
    "for audio_file in audio_files:\n",
    "    print(f\"Processing {os.path.basename(audio_file)}...\")\n",
    "    \n",
    "    # Load and preprocess audio\n",
    "    y, sr = audio_processor.load_and_preprocess(audio_file)\n",
    "    \n",
    "    # Extract features\n",
    "    pauses = audio_processor.extract_pauses(y, sr)\n",
    "    pitch_stats = audio_processor.compute_pitch_stats(y, sr)\n",
    "    \n",
    "    # Transcribe\n",
    "    transcript = transcriber.transcribe(audio_file)\n",
    "    transcript_analysis = transcriber.analyze_transcript(transcript)\n",
    "    \n",
    "    # Compute speech rate\n",
    "    duration = len(y) / sr\n",
    "    speech_rate = audio_processor.compute_speech_rate(\n",
    "        transcript_analysis['word_count'], \n",
    "        duration\n",
    "    )\n",
    "    \n",
    "    # Compile features\n",
    "    features = {\n",
    "        'file': os.path.basename(audio_file),\n",
    "        'pause_count': len(pauses),\n",
    "        'hesitation_count': transcript_analysis['hesitation_count'],\n",
    "        'speech_rate': speech_rate,\n",
    "        'pitch_stats': pitch_stats,\n",
    "        'transcript': transcript,\n",
    "        'incomplete_sentences': transcript_analysis['incomplete_sentences']\n",
    "    }\n",
    "    \n",
    "    features_list.append(features)"
   ]
  },
  {
   "cell_type": "markdown",
   "metadata": {},
   "source": [
    "## 3. Analyze Results"
   ]
  },
  {
   "cell_type": "code",
   "execution_count": null,
   "metadata": {},
   "source": [
    "# Prepare feature matrix\n",
    "feature_matrix = analyzer.prepare_features(features_list)\n",
    "\n",
    "# Perform anomaly detection\n",
    "labels = analyzer.fit_predict(feature_matrix)\n",
    "\n",
    "# Create visualizations\n",
    "pca_fig, tsne_fig = analyzer.visualize_results(feature_matrix, labels)\n",
    "\n",
    "# Display results\n",
    "plt.show()"
   ]
  },
  {
   "cell_type": "markdown",
   "metadata": {},
   "source": [
    "## 4. Generate Report"
   ]
  },
  {
   "cell_type": "code",
   "execution_count": null,
   "metadata": {},
   "source": [
    "# Create a DataFrame with results\n",
    "results_df = pd.DataFrame([\n",
    "    {\n",
    "        'File': f['file'],\n",
    "        'Pauses': f['pause_count'],\n",
    "        'Hesitations': f['hesitation_count'],\n",
    "        'Speech Rate': f['speech_rate'],\n",
    "        'Pitch Std': f['pitch_stats']['pitch_std'],\n",
    "        'Incomplete Sentences': f['incomplete_sentences'],\n",
    "        'Risk Label': 'At Risk' if l == -1 else 'Normal'\n",
    "    }\n",
    "    for f, l in zip(features_list, labels)\n",
    "])\n",
    "\n",
    "results_df"
   ]
  }
 ],
 "metadata": {
  "kernelspec": {
   "display_name": "Python 3",
   "language": "python",
   "name": "python3"
  },
  "language_info": {
   "codemirror_mode": {
    "name": "ipython",
    "version": 3
   },
   "file_extension": ".py",
   "mimetype": "text/x-python",
   "name": "python",
   "nbconvert_exporter": "python",
   "pygments_lexer": "ipython3",
   "version": "3.8.0"
  }
 },
 "nbformat": 4,
 "nbformat_minor": 4
}
